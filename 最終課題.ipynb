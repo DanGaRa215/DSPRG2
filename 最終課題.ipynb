{
 "cells": [
  {
   "cell_type": "code",
   "execution_count": 75,
   "metadata": {},
   "outputs": [],
   "source": [
    "import requests\n",
    "from bs4 import BeautifulSoup\n",
    "import time\n",
    "import json\n",
    "import sqlite3"
   ]
  },
  {
   "cell_type": "markdown",
   "metadata": {},
   "source": [
    "####   リンクをインバウンド用とアウトバウンド用のリンク"
   ]
  },
  {
   "cell_type": "code",
   "execution_count": 74,
   "metadata": {},
   "outputs": [],
   "source": [
    "url = 'https://www.tourism.jp/tourism-database/stats/inbound/'\n",
    "url_out = 'https://www.tourism.jp/tourism-database/stats/outbound/'"
   ]
  },
  {
   "cell_type": "code",
   "execution_count": 58,
   "metadata": {},
   "outputs": [
    {
     "name": "stdout",
     "output_type": "stream",
     "text": [
      "\n",
      "国・地域名\n",
      "月別訪日客数\n",
      "2024年11月\n",
      "対前年同月比\n",
      "\n",
      "\n",
      "韓国\n",
      "\n",
      "749,500人\n",
      "\n",
      "\n",
      "\n",
      "中国\n",
      "\n",
      "546,300人\n",
      "\n",
      "\n",
      "\n",
      "台湾\n",
      "\n",
      "488,400人\n",
      "\n",
      "\n",
      "\n",
      "香港\n",
      "\n",
      "227,100人\n",
      "\n",
      "\n",
      "\n",
      "タイ\n",
      "\n",
      "118,000人\n",
      "\n",
      "\n",
      "\n",
      "シンガポール\n",
      "\n",
      "95,800人\n",
      "\n",
      "\n",
      "\n",
      "マレーシア\n",
      "\n",
      "62,000人\n",
      "\n",
      "\n",
      "\n",
      "インドネシア\n",
      "\n",
      "48,800人\n",
      "\n",
      "\n",
      "\n",
      "フィリピン\n",
      "\n",
      "87,100人\n",
      "\n",
      "\n",
      "\n",
      "ベトナム\n",
      "\n",
      "50,200人\n",
      "\n",
      "\n",
      "\n",
      "インド\n",
      "\n",
      "23,500人\n",
      "\n",
      "\n",
      "\n",
      "英国\n",
      "\n",
      "37,000人\n",
      "\n",
      "\n",
      "\n",
      "フランス\n",
      "\n",
      "31,100人\n",
      "\n",
      "\n",
      "\n",
      "ドイツ\n",
      "\n",
      "25,200人\n",
      "\n",
      "\n",
      "\n",
      "イタリア\n",
      "\n",
      "20,800人\n",
      "\n",
      "\n",
      "\n",
      "ロシア\n",
      "\n",
      "13,900人\n",
      "\n",
      "\n",
      "\n",
      "スペイン\n",
      "\n",
      "18,800人\n",
      "\n",
      "\n",
      "\n",
      "USA\n",
      "\n",
      "247,500人\n",
      "\n",
      "\n",
      "\n",
      "カナダ\n",
      "\n",
      "47,300人\n",
      "\n",
      "\n",
      "\n",
      "オーストラリア\n",
      "\n",
      "80,300人\n",
      "\n",
      "\n"
     ]
    }
   ],
   "source": [
    "response = requests.get(url)\n",
    "soup = BeautifulSoup(response.content, 'html.parser')\n",
    "\n",
    "# 表を見つける\n",
    "table = soup.find('table')  # 最初の<table>が出る\n",
    "\n",
    "tr_list = table.find_all('tr')\n",
    "\n",
    "for tr in tr_list:\n",
    "    print(tr.text)\n",
    "\n",
    "    time.sleep(1) "
   ]
  },
  {
   "cell_type": "code",
   "execution_count": 73,
   "metadata": {},
   "outputs": [
    {
     "name": "stdout",
     "output_type": "stream",
     "text": [
      "データ内容:\n",
      "('国・地域名', '2024年11月'),\n",
      "('韓国', '749,500人'),\n",
      "('中国', '546,300人'),\n",
      "('台湾', '488,400人'),\n",
      "('香港', '227,100人'),\n",
      "('タイ', '118,000人'),\n",
      "('シンガポール', '95,800人'),\n",
      "('マレーシア', '62,000人'),\n",
      "('インドネシア', '48,800人'),\n",
      "('フィリピン', '87,100人'),\n",
      "('ベトナム', '50,200人'),\n",
      "('インド', '23,500人'),\n",
      "('英国', '37,000人'),\n",
      "('フランス', '31,100人'),\n",
      "('ドイツ', '25,200人'),\n",
      "('イタリア', '20,800人'),\n",
      "('ロシア', '13,900人'),\n",
      "('スペイン', '18,800人'),\n",
      "('USA', '247,500人'),\n",
      "('カナダ', '47,300人'),\n",
      "('オーストラリア', '80,300人'),\n"
     ]
    }
   ],
   "source": [
    "# データ格納用リスト\n",
    "data = []  \n",
    "\n",
    "for tr in tr_list:\n",
    "    cols = tr.find_all(['th', 'td'])  \n",
    "    col_text = [col.text.strip() for col in cols]  #テキスト抽出\n",
    "    \n",
    "    if len(col_text) >= 2:  # データが2列以上ある場合のみ処理\n",
    "        country = col_text[0]  # 国名\n",
    "        visitors = col_text[2]  # 訪問者数\n",
    "        data.append((country, visitors))  # リストに追加\n",
    "    \n",
    "    \n",
    "\n",
    "print(\"データ内容:\")\n",
    "for d in data:\n",
    "    print(f\"{d},\")"
   ]
  },
  {
   "cell_type": "markdown",
   "metadata": {},
   "source": [
    "##  データベースに格納"
   ]
  },
  {
   "cell_type": "code",
   "execution_count": 76,
   "metadata": {},
   "outputs": [
    {
     "name": "stdout",
     "output_type": "stream",
     "text": [
      "/Users/dangararara/muds/b1/DSprog2/2_work\n"
     ]
    }
   ],
   "source": [
    "!pwd"
   ]
  },
  {
   "cell_type": "code",
   "execution_count": 79,
   "metadata": {},
   "outputs": [],
   "source": [
    "path = '/Users/dangararara/muds/b1/DSprog2/2_work/'\n",
    "\n",
    "# DBファイル名\n",
    "db_name = 'final_pj.db'\n",
    "\n",
    "# DBに接続する（DBファイルが存在しない場合は，新規に作成される）\n",
    "con = sqlite3.connect(path + db_name)\n",
    "\n",
    "# DBへの接続を閉じる\n",
    "con.close()"
   ]
  }
 ],
 "metadata": {
  "kernelspec": {
   "display_name": ".venv",
   "language": "python",
   "name": "python3"
  },
  "language_info": {
   "codemirror_mode": {
    "name": "ipython",
    "version": 3
   },
   "file_extension": ".py",
   "mimetype": "text/x-python",
   "name": "python",
   "nbconvert_exporter": "python",
   "pygments_lexer": "ipython3",
   "version": "3.10.1"
  }
 },
 "nbformat": 4,
 "nbformat_minor": 2
}
